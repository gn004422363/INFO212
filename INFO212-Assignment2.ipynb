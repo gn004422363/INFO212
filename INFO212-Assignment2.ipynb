{
 "cells": [
  {
   "cell_type": "markdown",
   "metadata": {},
   "source": [
    "<h1 style=\"text-align:center\"> Drexel University </h1>\n",
    "<h2 style = \"text-align:center\"> College of Computing and Informatics</h2>\n",
    "<h2 style = \"text-align:center\">INFO 212: Data Science Programming I</h2>\n",
    "<h3 style = \"text-align:center\">Assignment 2</h3>\n",
    "<div style=\"text-align:center; border-style:solid; padding: 10px\">\n",
    "<div style=\"font-weight:bold\">Due Date: Sunday, May 3, 2020</div>\n",
    "This assignment counts for 15% of the final grade\n",
    "</div>\n",
    "\n",
    "<h3 style=\"color:red; font-weight:bold; text-decoration: underline\">DON'T FORGET TO PUT YOUR NAME BELOW</h3>\n",
    "\n",
    "### NAME: Man Tik Li\n",
    "\n",
    "\n",
    "### A. Assignment Overview\n",
    "This assignment provides the opportunity for you to practice with the capabilities in Python Numpy and Pandas. \n",
    "\n",
    "### B. What to Hand In\n",
    "\t\n",
    "Sumbit a completed this Jupyter notebook. \n",
    "\n",
    "### C. How to Hand In\n",
    "\n",
    "Submit your Jupyter notebook file through the course website in the Blackboard Learn system.\n",
    "\n",
    "### D. When to Hand In\n",
    "\n",
    "1. Submit your assignment no later than 11:59pm in the due date.\n",
    "2. There will be a 10% (absolute value) deduction for each day of lateness, to a maximum of 3 days; assignments will not be accepted beyond that point. Missing work will earn a zero grade.\n",
    "\n",
    "### E. Written Presentation Requirements (if applicable)\n",
    "Images must be clear and legible. Assignments will be judged on the basis of visual appearance, grammatical correctness, and quality of writing, as well as their contents. Please make sure that the text of your assignments is well-structured, using paragraphs, full sentences, and other features of well-written presentation.\n",
    "\n",
    "### F. Marking Schemes:\n",
    "\n",
    "Marking assignments will be based on several aspects: presentation, correctness and coding styles. \n",
    "\n",
    "For programming questions, 10% of the mark will be judged on the coding style. \n",
    "\n",
    "The following is a set of guidelines for the coding style in this course:\n",
    "1. Write good comments. \n",
    "2. Be consistent on naming conventions.  \n",
    "3. Put a blank space before and after every operator. \n",
    "4. When breaking up a long line, break it before an operator, not after. \n",
    "\n",
    "### G. Data Sets\n",
    "\n",
    "This assignment needs the data sets posted in the Week 3 module. Follow the instructions inside Week 3 module to download and unpack the \"Inflammation-data\" and \"Wine Reviews\" data sets.\n",
    "\n",
    "### H. Answer the following questions"
   ]
  },
  {
   "cell_type": "markdown",
   "metadata": {},
   "source": [
    "#### Question 1:\n",
    "Go to the Week 3 module on the course shell, download the zipped file \"inflammation-data.zip\" and unzip it in the \"datasets\" folder under \"info212.\" You should see a directory \"inflammation-data\" containing data files. Write a program to list all the inflammation csv files in the 'inflammation-data' directory and count the number of such files. An inflammation csv file has a name containing 'inflammation' and with extension '.csv'."
   ]
  },
  {
   "cell_type": "code",
   "execution_count": 20,
   "metadata": {},
   "outputs": [
    {
     "name": "stdout",
     "output_type": "stream",
     "text": [
      "The directory containing file name inflamation with the csv extension: \n",
      "inflammation-05.csv\n",
      "inflammation-11.csv\n",
      "inflammation-10.csv\n",
      "inflammation-04.csv\n",
      "inflammation-12.csv\n",
      "inflammation-06.csv\n",
      "inflammation-07.csv\n",
      "inflammation-03.csv\n",
      "inflammation-02.csv\n",
      "inflammation-01.csv\n",
      "inflammation-09.csv\n",
      "inflammation-08.csv\n"
     ]
    },
    {
     "data": {
      "text/plain": [
       "'Total files:12'"
      ]
     },
     "execution_count": 20,
     "metadata": {},
     "output_type": "execute_result"
    }
   ],
   "source": [
    "import os\n",
    "\n",
    "def read(fName, extension):\n",
    "    count = 0 # Counter\n",
    "    for file in os.listdir(\"inflammation-data\"):\n",
    "        if file.endswith(extension) and fName in file:\n",
    "            count += 1\n",
    "            print(file)\n",
    "    return \"Total files:\" + str(count)\n",
    "\n",
    "print(\"The directory containing file name inflamation with the csv extension: \")\n",
    "read(\"inflammation\", \".csv\")"
   ]
  },
  {
   "cell_type": "markdown",
   "metadata": {},
   "source": [
    "#### Question 2:\n",
    "Load the data in the file 'inflammation-05.csv' to an Numpy array. Answer the following questions:\n",
    "* Suppose the rows represent patients, and columns represent days. How many patients and how many days does the file contain?\n",
    "* Extract the values for the last 10 patients' inflammation in last 10 days.\n",
    "* For each patient, compute the average inflammation over all days. You should compute all patients' average inflammation values in single line. The result is an array. Plot all patients' averages and label the plot with \"Average Inflammation of Patients\". \n",
    "* For each day, compute the average inflammation over all patients. You should compute all the daily average inflammation values in a single line. The result is an array. Plot all daily averages and label the plot with \"Average Inflammation of Days\" "
   ]
  },
  {
   "cell_type": "code",
   "execution_count": 64,
   "metadata": {},
   "outputs": [
    {
     "name": "stdout",
     "output_type": "stream",
     "text": [
      "Total patients: 60\n",
      "\n",
      "Total days: 40\n",
      "\n",
      "The values for the last 10 patients' inflammation in last 10 days are: \n",
      "[[5. 2. 8. 4. 2. 4. 2. 0. 1. 0.]\n",
      " [6. 7. 8. 1. 4. 4. 1. 0. 2. 0.]\n",
      " [5. 7. 6. 6. 4. 3. 4. 0. 1. 0.]\n",
      " [8. 9. 6. 6. 6. 3. 3. 1. 1. 0.]\n",
      " [7. 7. 4. 5. 6. 4. 4. 0. 1. 1.]\n",
      " [6. 9. 6. 3. 4. 5. 3. 2. 0. 0.]\n",
      " [6. 7. 4. 2. 1. 4. 2. 1. 0. 1.]\n",
      " [2. 5. 7. 6. 1. 5. 4. 0. 1. 1.]\n",
      " [2. 6. 6. 3. 2. 5. 4. 1. 2. 1.]\n",
      " [6. 9. 5. 3. 3. 2. 4. 1. 0. 1.]]\n",
      "\n",
      "The average inflammation for all patients: \n",
      "[ 0.          0.36666667  1.05        1.46666667  2.56666667  3.08333333\n",
      "  4.          3.78333333  4.7         5.31666667  6.21666667  6.46666667\n",
      "  7.88333333  8.53333333  8.98333333  8.73333333  9.4        10.63333333\n",
      " 11.68333333 12.1        11.85       11.85       10.5        10.8\n",
      "  9.83333333  9.18333333  9.03333333  7.43333333  7.21666667  6.36666667\n",
      "  5.73333333  6.15        5.38333333  4.13333333  3.65        3.11666667\n",
      "  2.78333333  1.3         0.9         0.55      ]\n",
      "\n",
      "The average inflammation for all days: \n",
      "[5.775 6.35  6.3   6.7   6.3   6.225 6.5   5.875 6.55  6.225 6.6   5.65\n",
      " 4.85  6.6   5.025 5.925 6.4   7.1   6.6   7.1   5.425 5.775 5.725 6.475\n",
      " 6.5   6.2   6.075 6.475 5.45  5.9   5.275 6.1   6.475 6.15  5.1   5.9\n",
      " 5.9   6.2   6.55  6.35  5.55  7.025 6.425 6.2   5.2   6.6   6.1   5.725\n",
      " 6.425 6.6   6.45  6.425 6.475 5.7   6.425 5.45  5.075 5.825 6.55  6.225]\n"
     ]
    },
    {
     "data": {
      "image/png": "[encoded data removed]",
      "text/plain": [
       "<Figure size 720x144 with 2 Axes>"
      ]
     },
     "metadata": {
      "needs_background": "light"
     },
     "output_type": "display_data"
    }
   ],
   "source": [
    "import pandas as pd\n",
    "import numpy as np\n",
    "import matplotlib.pyplot as plt\n",
    "%matplotlib inline\n",
    "\n",
    "def display(data):\n",
    "    print(\"Total patients: \" + str(data.shape[0])) # Total patients\n",
    "    print(\"\\nTotal days: \" + str(data.shape[1])) # Total days\n",
    "    \n",
    "    print(\"\\nThe values for the last 10 patients' inflammation in last 10 days are: \\n\" + str(data[50:60, 30:40]))\n",
    "    \n",
    "    # Compute daily average\n",
    "    dailyAve = np.mean(data, axis = 0)\n",
    "    print(\"\\nThe average inflammation for all patients: \\n\" + str(dailyAve))\n",
    "    \n",
    "    \n",
    "    # Compute patient average\n",
    "    patientAve = np.mean(data, axis = 1)\n",
    "    print(\"\\nThe average inflammation for all days: \\n\" + str(patientAve) + \"\\n\n",
    "    \")\n",
    "    \n",
    "    \n",
    "    # Plot chart for patients and days\n",
    "    fig = plt.figure(figsize=(10, 2))\n",
    "    axes1 = fig.add_subplot(131)\n",
    "    axes2 = fig.add_subplot(132)\n",
    "    \n",
    "    axes1.plot(dailyAve)\n",
    "    axes1.set_ylabel(\"Average Inflammation of Days\")\n",
    "    axes2.plot(patientAve)\n",
    "    axes2.set_ylabel(\"Average Inflammation of Patients\")\n",
    "    \n",
    "    plt.tight_layout()\n",
    "    \n",
    "data = np.loadtxt('inflammation-data/inflammation-05.csv', delimiter = \",\")\n",
    "display(data)\n"
   ]
  },
  {
   "cell_type": "markdown",
   "metadata": {},
   "source": [
    "#### Qestion 3:\n",
    "Given the following list of file names: \n",
    "```\n",
    "filenames = ['inflammation-02.csv', 'inflammation-04.csv', 'inflammation-06.csv']\n",
    "```\n",
    "Write a program to plot the daily averages, maximums, and minimums of inflammation for each of the file. Your plot should have three rows each of which shows side-by-side plots of average, max, and min. The following figure illustrates the expected outcome:\n",
    "![](assignment2-question3.png)"
   ]
  },
  {
   "cell_type": "code",
   "execution_count": 13,
   "metadata": {},
   "outputs": [
    {
     "data": {
      "image/png": "[encoded data removed]",
      "text/plain": [
       "<Figure size 720x216 with 3 Axes>"
      ]
     },
     "metadata": {
      "needs_background": "light"
     },
     "output_type": "display_data"
    },
    {
     "data": {
      "image/png": "[encoded data removed]",
      "text/plain": [
       "<Figure size 720x216 with 3 Axes>"
      ]
     },
     "metadata": {
      "needs_background": "light"
     },
     "output_type": "display_data"
    },
    {
     "data": {
      "image/png": "[encoded data removed]",
      "text/plain": [
       "<Figure size 720x216 with 3 Axes>"
      ]
     },
     "metadata": {
      "needs_background": "light"
     },
     "output_type": "display_data"
    }
   ],
   "source": [
    "import pandas as pd\n",
    "import numpy as np\n",
    "import matplotlib.pyplot as plt\n",
    "%matplotlib inline\n",
    "def fileLists(file1,file2,file3):\n",
    "    nameList = [file1, file2, file3]\n",
    "    \n",
    "    # Loop files from folder\n",
    "    for name in nameList:\n",
    "        path = \"inflammation-data/\" + name\n",
    "        data = np.loadtxt(path, delimiter = \",\")\n",
    "        \n",
    "        # Calculate mean for each data\n",
    "        daily_averages = np.mean(data, axis = 0)\n",
    "        \n",
    "        # Maximum\n",
    "        maximum = np.max(data, axis = 0)\n",
    "        # Minimum\n",
    "        minimum = np.min(data, axis = 0)\n",
    "        # Plot chart\n",
    "        fig = plt.figure(figsize=(10, 3))\n",
    "        # Set titel size\n",
    "        fig.suptitle(name, x = 0.2, fontsize = 18)\n",
    "        \n",
    "        axes1 = fig.add_subplot(131)\n",
    "        axes2 = fig.add_subplot(132)\n",
    "        axes3 = fig.add_subplot(133)\n",
    "        \n",
    "        # Average\n",
    "        axes1.plot(daily_averages)\n",
    "        axes1.set_ylabel(\"Daily average\")\n",
    "        \n",
    "        # Maximum\n",
    "        axes2.plot(maximum)\n",
    "        axes2.set_ylabel(\"Maximum each day\")\n",
    "        \n",
    "        # Minimum\n",
    "        axes3.plot(minimum)\n",
    "        axes3.set_ylabel(\"Minimum each day\")\n",
    "        \n",
    "        plt.tight_layout()\n",
    "        fig.subplots_adjust(top=0.9)\n",
    "        \n",
    "fileLists('inflammation-02.csv', 'inflammation-04.csv', 'inflammation-06.csv')"
   ]
  },
  {
   "cell_type": "markdown",
   "metadata": {},
   "source": [
    "#### Question 4: \n",
    "Download the data file \"winemag-data-130k-v2.csv\" and load it into a Pandas DataFrame using the column 0 as index. This data set contains 130k reviews for different wine verieties. Answer the following questions:\n",
    "* What features do the reviews use? i.e. list all the column names.\n",
    "* What is the value of the 'description' column for the third view?\n",
    "* Select the country, province, region_1, and region_2 columns of the records at the 0, 1, 10, and 100 index positions.\n",
    "* Select all the reviews for wines made in 'Italy'. How many reviews are there for wines made in 'Italy'?\n",
    "* Suppose the 'points' column represents the rating of a wine. An above-averagely good wine has a value in 'points' equal or greater than 90. Between France and Italy, which country has more reviews for its above-averagely good wines?"
   ]
  },
  {
   "cell_type": "code",
   "execution_count": 35,
   "metadata": {},
   "outputs": [
    {
     "name": "stdout",
     "output_type": "stream",
     "text": [
      "The features that the reviews use are: \n",
      "Index(['country', 'description', 'designation', 'points', 'price', 'province',\n",
      "       'region_1', 'region_2', 'taster_name', 'taster_twitter_handle', 'title',\n",
      "       'variety', 'winery'],\n",
      "      dtype='object')\n"
     ]
    }
   ],
   "source": [
    "import pandas as pd\n",
    "import numpy as np\n",
    "import matplotlib.pyplot as plt\n",
    "%matplotlib inline\n",
    "\n",
    "# What features do the reviews use? i.e. list all the column names\n",
    "path = \"winemag-data-130k-v2.csv\"\n",
    "data = pd.read_csv(path, index_col = 0)\n",
    "print(\"The features that the reviews use are: \\n\" + str(data.columns))\n"
   ]
  },
  {
   "cell_type": "code",
   "execution_count": 36,
   "metadata": {},
   "outputs": [
    {
     "name": "stdout",
     "output_type": "stream",
     "text": [
      "The description for the third view: \n",
      "Tart and snappy, the flavors of lime flesh and rind dominate. Some green pineapple pokes through, with crisp acidity underscoring the flavors. The wine was all stainless-steel fermented.\n"
     ]
    }
   ],
   "source": [
    "# What is the value of the 'description' column for the third view?\n",
    "print(\"The description for the third view: \\n\" + str(data.iloc[2][\"description\"]))"
   ]
  },
  {
   "cell_type": "code",
   "execution_count": 39,
   "metadata": {},
   "outputs": [
    {
     "name": "stdout",
     "output_type": "stream",
     "text": [
      "The country, province, region_1, and region_2 columns of the records at the 0, 1, 10, and 100 index positions are: \n",
      "      country           province      region_1      region_2\n",
      "0       Italy  Sicily & Sardinia          Etna           NaN\n",
      "1    Portugal              Douro           NaN           NaN\n",
      "10         US         California   Napa Valley          Napa\n",
      "100        US           New York  Finger Lakes  Finger Lakes\n"
     ]
    }
   ],
   "source": [
    "# Select the country, province, region_1, and region_2 columns of the records at the 0, 1, 10, and 100 index positions.\n",
    "print(\"The country, province, region_1, and region_2 columns of the records at the 0, 1, 10, and 100 index positions are: \\n\" + str(data.loc[[0, 1, 10, 100], [\"country\", \"province\", \"region_1\", \"region_2\"]]))\n"
   ]
  },
  {
   "cell_type": "code",
   "execution_count": 33,
   "metadata": {},
   "outputs": [
    {
     "name": "stdout",
     "output_type": "stream",
     "text": [
      "The number of reviews for wine that was made in Italy is: 19540\n",
      "Reviews for wine that was made in Italy: \n",
      "\n"
     ]
    },
    {
     "data": {
      "text/html": [
       "<div>\n",
       "<style scoped>\n",
       "    .dataframe tbody tr th:only-of-type {\n",
       "        vertical-align: middle;\n",
       "    }\n",
       "\n",
       "    .dataframe tbody tr th {\n",
       "        vertical-align: top;\n",
       "    }\n",
       "\n",
       "    .dataframe thead th {\n",
       "        text-align: right;\n",
       "    }\n",
       "</style>\n",
       "<table border=\"1\" class=\"dataframe\">\n",
       "  <thead>\n",
       "    <tr style=\"text-align: right;\">\n",
       "      <th></th>\n",
       "      <th>country</th>\n",
       "      <th>description</th>\n",
       "      <th>designation</th>\n",
       "      <th>points</th>\n",
       "      <th>price</th>\n",
       "      <th>province</th>\n",
       "      <th>region_1</th>\n",
       "      <th>region_2</th>\n",
       "      <th>taster_name</th>\n",
       "      <th>taster_twitter_handle</th>\n",
       "      <th>title</th>\n",
       "      <th>variety</th>\n",
       "      <th>winery</th>\n",
       "    </tr>\n",
       "  </thead>\n",
       "  <tbody>\n",
       "    <tr>\n",
       "      <th>0</th>\n",
       "      <td>Italy</td>\n",
       "      <td>Aromas include tropical fruit, broom, brimston...</td>\n",
       "      <td>Vulkà Bianco</td>\n",
       "      <td>87</td>\n",
       "      <td>NaN</td>\n",
       "      <td>Sicily &amp; Sardinia</td>\n",
       "      <td>Etna</td>\n",
       "      <td>NaN</td>\n",
       "      <td>Kerin O’Keefe</td>\n",
       "      <td>@kerinokeefe</td>\n",
       "      <td>Nicosia 2013 Vulkà Bianco  (Etna)</td>\n",
       "      <td>White Blend</td>\n",
       "      <td>Nicosia</td>\n",
       "    </tr>\n",
       "    <tr>\n",
       "      <th>6</th>\n",
       "      <td>Italy</td>\n",
       "      <td>Here's a bright, informal red that opens with ...</td>\n",
       "      <td>Belsito</td>\n",
       "      <td>87</td>\n",
       "      <td>16.0</td>\n",
       "      <td>Sicily &amp; Sardinia</td>\n",
       "      <td>Vittoria</td>\n",
       "      <td>NaN</td>\n",
       "      <td>Kerin O’Keefe</td>\n",
       "      <td>@kerinokeefe</td>\n",
       "      <td>Terre di Giurfo 2013 Belsito Frappato (Vittoria)</td>\n",
       "      <td>Frappato</td>\n",
       "      <td>Terre di Giurfo</td>\n",
       "    </tr>\n",
       "    <tr>\n",
       "      <th>13</th>\n",
       "      <td>Italy</td>\n",
       "      <td>This is dominated by oak and oak-driven aromas...</td>\n",
       "      <td>Rosso</td>\n",
       "      <td>87</td>\n",
       "      <td>NaN</td>\n",
       "      <td>Sicily &amp; Sardinia</td>\n",
       "      <td>Etna</td>\n",
       "      <td>NaN</td>\n",
       "      <td>Kerin O’Keefe</td>\n",
       "      <td>@kerinokeefe</td>\n",
       "      <td>Masseria Setteporte 2012 Rosso  (Etna)</td>\n",
       "      <td>Nerello Mascalese</td>\n",
       "      <td>Masseria Setteporte</td>\n",
       "    </tr>\n",
       "    <tr>\n",
       "      <th>22</th>\n",
       "      <td>Italy</td>\n",
       "      <td>Delicate aromas recall white flower and citrus...</td>\n",
       "      <td>Ficiligno</td>\n",
       "      <td>87</td>\n",
       "      <td>19.0</td>\n",
       "      <td>Sicily &amp; Sardinia</td>\n",
       "      <td>Sicilia</td>\n",
       "      <td>NaN</td>\n",
       "      <td>Kerin O’Keefe</td>\n",
       "      <td>@kerinokeefe</td>\n",
       "      <td>Baglio di Pianetto 2007 Ficiligno White (Sicilia)</td>\n",
       "      <td>White Blend</td>\n",
       "      <td>Baglio di Pianetto</td>\n",
       "    </tr>\n",
       "    <tr>\n",
       "      <th>24</th>\n",
       "      <td>Italy</td>\n",
       "      <td>Aromas of prune, blackcurrant, toast and oak c...</td>\n",
       "      <td>Aynat</td>\n",
       "      <td>87</td>\n",
       "      <td>35.0</td>\n",
       "      <td>Sicily &amp; Sardinia</td>\n",
       "      <td>Sicilia</td>\n",
       "      <td>NaN</td>\n",
       "      <td>Kerin O’Keefe</td>\n",
       "      <td>@kerinokeefe</td>\n",
       "      <td>Canicattì 2009 Aynat Nero d'Avola (Sicilia)</td>\n",
       "      <td>Nero d'Avola</td>\n",
       "      <td>Canicattì</td>\n",
       "    </tr>\n",
       "    <tr>\n",
       "      <th>...</th>\n",
       "      <td>...</td>\n",
       "      <td>...</td>\n",
       "      <td>...</td>\n",
       "      <td>...</td>\n",
       "      <td>...</td>\n",
       "      <td>...</td>\n",
       "      <td>...</td>\n",
       "      <td>...</td>\n",
       "      <td>...</td>\n",
       "      <td>...</td>\n",
       "      <td>...</td>\n",
       "      <td>...</td>\n",
       "      <td>...</td>\n",
       "    </tr>\n",
       "    <tr>\n",
       "      <th>129929</th>\n",
       "      <td>Italy</td>\n",
       "      <td>This luminous sparkler has a sweet, fruit-forw...</td>\n",
       "      <td>NaN</td>\n",
       "      <td>91</td>\n",
       "      <td>38.0</td>\n",
       "      <td>Veneto</td>\n",
       "      <td>Prosecco Superiore di Cartizze</td>\n",
       "      <td>NaN</td>\n",
       "      <td>NaN</td>\n",
       "      <td>NaN</td>\n",
       "      <td>Col Vetoraz Spumanti NV  Prosecco Superiore di...</td>\n",
       "      <td>Prosecco</td>\n",
       "      <td>Col Vetoraz Spumanti</td>\n",
       "    </tr>\n",
       "    <tr>\n",
       "      <th>129943</th>\n",
       "      <td>Italy</td>\n",
       "      <td>A blend of Nero d'Avola and Syrah, this convey...</td>\n",
       "      <td>Adènzia</td>\n",
       "      <td>90</td>\n",
       "      <td>29.0</td>\n",
       "      <td>Sicily &amp; Sardinia</td>\n",
       "      <td>Sicilia</td>\n",
       "      <td>NaN</td>\n",
       "      <td>Kerin O’Keefe</td>\n",
       "      <td>@kerinokeefe</td>\n",
       "      <td>Baglio del Cristo di Campobello 2012 Adènzia R...</td>\n",
       "      <td>Red Blend</td>\n",
       "      <td>Baglio del Cristo di Campobello</td>\n",
       "    </tr>\n",
       "    <tr>\n",
       "      <th>129947</th>\n",
       "      <td>Italy</td>\n",
       "      <td>A blend of 65% Cabernet Sauvignon, 30% Merlot ...</td>\n",
       "      <td>Symposio</td>\n",
       "      <td>90</td>\n",
       "      <td>20.0</td>\n",
       "      <td>Sicily &amp; Sardinia</td>\n",
       "      <td>Terre Siciliane</td>\n",
       "      <td>NaN</td>\n",
       "      <td>Kerin O’Keefe</td>\n",
       "      <td>@kerinokeefe</td>\n",
       "      <td>Feudo Principi di Butera 2012 Symposio Red (Te...</td>\n",
       "      <td>Red Blend</td>\n",
       "      <td>Feudo Principi di Butera</td>\n",
       "    </tr>\n",
       "    <tr>\n",
       "      <th>129961</th>\n",
       "      <td>Italy</td>\n",
       "      <td>Intense aromas of wild cherry, baking spice, t...</td>\n",
       "      <td>NaN</td>\n",
       "      <td>90</td>\n",
       "      <td>30.0</td>\n",
       "      <td>Sicily &amp; Sardinia</td>\n",
       "      <td>Sicilia</td>\n",
       "      <td>NaN</td>\n",
       "      <td>Kerin O’Keefe</td>\n",
       "      <td>@kerinokeefe</td>\n",
       "      <td>COS 2013 Frappato (Sicilia)</td>\n",
       "      <td>Frappato</td>\n",
       "      <td>COS</td>\n",
       "    </tr>\n",
       "    <tr>\n",
       "      <th>129962</th>\n",
       "      <td>Italy</td>\n",
       "      <td>Blackberry, cassis, grilled herb and toasted a...</td>\n",
       "      <td>Sàgana Tenuta San Giacomo</td>\n",
       "      <td>90</td>\n",
       "      <td>40.0</td>\n",
       "      <td>Sicily &amp; Sardinia</td>\n",
       "      <td>Sicilia</td>\n",
       "      <td>NaN</td>\n",
       "      <td>Kerin O’Keefe</td>\n",
       "      <td>@kerinokeefe</td>\n",
       "      <td>Cusumano 2012 Sàgana Tenuta San Giacomo Nero d...</td>\n",
       "      <td>Nero d'Avola</td>\n",
       "      <td>Cusumano</td>\n",
       "    </tr>\n",
       "  </tbody>\n",
       "</table>\n",
       "<p>19540 rows × 13 columns</p>\n",
       "</div>"
      ],
      "text/plain": [
       "       country                                        description  \\\n",
       "0        Italy  Aromas include tropical fruit, broom, brimston...   \n",
       "6        Italy  Here's a bright, informal red that opens with ...   \n",
       "13       Italy  This is dominated by oak and oak-driven aromas...   \n",
       "22       Italy  Delicate aromas recall white flower and citrus...   \n",
       "24       Italy  Aromas of prune, blackcurrant, toast and oak c...   \n",
       "...        ...                                                ...   \n",
       "129929   Italy  This luminous sparkler has a sweet, fruit-forw...   \n",
       "129943   Italy  A blend of Nero d'Avola and Syrah, this convey...   \n",
       "129947   Italy  A blend of 65% Cabernet Sauvignon, 30% Merlot ...   \n",
       "129961   Italy  Intense aromas of wild cherry, baking spice, t...   \n",
       "129962   Italy  Blackberry, cassis, grilled herb and toasted a...   \n",
       "\n",
       "                      designation  points  price           province  \\\n",
       "0                    Vulkà Bianco      87    NaN  Sicily & Sardinia   \n",
       "6                         Belsito      87   16.0  Sicily & Sardinia   \n",
       "13                          Rosso      87    NaN  Sicily & Sardinia   \n",
       "22                      Ficiligno      87   19.0  Sicily & Sardinia   \n",
       "24                          Aynat      87   35.0  Sicily & Sardinia   \n",
       "...                           ...     ...    ...                ...   \n",
       "129929                        NaN      91   38.0             Veneto   \n",
       "129943                    Adènzia      90   29.0  Sicily & Sardinia   \n",
       "129947                   Symposio      90   20.0  Sicily & Sardinia   \n",
       "129961                        NaN      90   30.0  Sicily & Sardinia   \n",
       "129962  Sàgana Tenuta San Giacomo      90   40.0  Sicily & Sardinia   \n",
       "\n",
       "                              region_1 region_2    taster_name  \\\n",
       "0                                 Etna      NaN  Kerin O’Keefe   \n",
       "6                             Vittoria      NaN  Kerin O’Keefe   \n",
       "13                                Etna      NaN  Kerin O’Keefe   \n",
       "22                             Sicilia      NaN  Kerin O’Keefe   \n",
       "24                             Sicilia      NaN  Kerin O’Keefe   \n",
       "...                                ...      ...            ...   \n",
       "129929  Prosecco Superiore di Cartizze      NaN            NaN   \n",
       "129943                         Sicilia      NaN  Kerin O’Keefe   \n",
       "129947                 Terre Siciliane      NaN  Kerin O’Keefe   \n",
       "129961                         Sicilia      NaN  Kerin O’Keefe   \n",
       "129962                         Sicilia      NaN  Kerin O’Keefe   \n",
       "\n",
       "       taster_twitter_handle  \\\n",
       "0               @kerinokeefe   \n",
       "6               @kerinokeefe   \n",
       "13              @kerinokeefe   \n",
       "22              @kerinokeefe   \n",
       "24              @kerinokeefe   \n",
       "...                      ...   \n",
       "129929                   NaN   \n",
       "129943          @kerinokeefe   \n",
       "129947          @kerinokeefe   \n",
       "129961          @kerinokeefe   \n",
       "129962          @kerinokeefe   \n",
       "\n",
       "                                                    title            variety  \\\n",
       "0                       Nicosia 2013 Vulkà Bianco  (Etna)        White Blend   \n",
       "6        Terre di Giurfo 2013 Belsito Frappato (Vittoria)           Frappato   \n",
       "13                 Masseria Setteporte 2012 Rosso  (Etna)  Nerello Mascalese   \n",
       "22      Baglio di Pianetto 2007 Ficiligno White (Sicilia)        White Blend   \n",
       "24            Canicattì 2009 Aynat Nero d'Avola (Sicilia)       Nero d'Avola   \n",
       "...                                                   ...                ...   \n",
       "129929  Col Vetoraz Spumanti NV  Prosecco Superiore di...           Prosecco   \n",
       "129943  Baglio del Cristo di Campobello 2012 Adènzia R...          Red Blend   \n",
       "129947  Feudo Principi di Butera 2012 Symposio Red (Te...          Red Blend   \n",
       "129961                        COS 2013 Frappato (Sicilia)           Frappato   \n",
       "129962  Cusumano 2012 Sàgana Tenuta San Giacomo Nero d...       Nero d'Avola   \n",
       "\n",
       "                                 winery  \n",
       "0                               Nicosia  \n",
       "6                       Terre di Giurfo  \n",
       "13                  Masseria Setteporte  \n",
       "22                   Baglio di Pianetto  \n",
       "24                            Canicattì  \n",
       "...                                 ...  \n",
       "129929             Col Vetoraz Spumanti  \n",
       "129943  Baglio del Cristo di Campobello  \n",
       "129947         Feudo Principi di Butera  \n",
       "129961                              COS  \n",
       "129962                         Cusumano  \n",
       "\n",
       "[19540 rows x 13 columns]"
      ]
     },
     "execution_count": 33,
     "metadata": {},
     "output_type": "execute_result"
    }
   ],
   "source": [
    "# Select all the reviews for wines made in 'Italy'. How many reviews are there for wines made in 'Italy'?\n",
    "print(\"The number of reviews for wine that was made in Italy is: \" + str((data.country == \"Italy\").sum()))\n",
    "print(\"Reviews for wine that was made in Italy: \\n\")\n",
    "italyData = data[data.country == \"Italy\"]\n",
    "italyData"
   ]
  },
  {
   "cell_type": "code",
   "execution_count": 34,
   "metadata": {},
   "outputs": [
    {
     "name": "stdout",
     "output_type": "stream",
     "text": [
      "The number of above average wines in France are: 9192\n",
      "The number of above average wines in Italy are: 6648\n",
      "Thus France produces more above average wines than Italy\n"
     ]
    }
   ],
   "source": [
    "# Suppose the 'points' column represents the rating of a wine. An above-averagely good wine has a value in 'points' equal or greater than 90. Between France and Italy, which country has more reviews for its above-averagely good wines?\n",
    "print(\"The number of above average wines in France are: \" + str(((data.country == \"France\") & (data.points >= 90)).sum()))\n",
    "print(\"The number of above average wines in Italy are: \" + str(((data.country == \"Italy\") & (data.points >= 90)).sum()))\n",
    "print(\"Thus France produces more above average wines than Italy\")\n"
   ]
  },
  {
   "cell_type": "markdown",
   "metadata": {},
   "source": [
    "#### Question 5:\n",
    "Continue to work on the DataFrame of wine review loaded in Question 4. Answer the following questions:\n",
    "* What countries are represented in the data set? i.e., list all the unique country names.\n",
    "* What are the top-10 countries with the most wine reviews?\n",
    "* What is the median of the price?\n",
    "* Create a new column 'price_norm' by subtracting the median price from the price column. Use the DataFrame.apply method.\n",
    "* Create a new column 'bargain' which contains the points-to-price ratio. Which wine(s) is/are the \"best bargain\", e.g., which wine(s) has/have the highest points-to-price ratio in the dataset?"
   ]
  },
  {
   "cell_type": "code",
   "execution_count": 57,
   "metadata": {},
   "outputs": [
    {
     "name": "stdout",
     "output_type": "stream",
     "text": [
      "Countries that are represented in the dataset: \n",
      "['Italy' 'Portugal' 'US' 'Spain' 'France' 'Germany' 'Argentina' 'Chile'\n",
      " 'Australia' 'Austria' 'South Africa' 'New Zealand' 'Israel' 'Hungary'\n",
      " 'Greece' 'Romania' 'Mexico' 'Canada' nan 'Turkey' 'Czech Republic'\n",
      " 'Slovenia' 'Luxembourg' 'Croatia' 'Georgia' 'Uruguay' 'England' 'Lebanon'\n",
      " 'Serbia' 'Brazil' 'Moldova' 'Morocco' 'Peru' 'India' 'Bulgaria' 'Cyprus'\n",
      " 'Armenia' 'Switzerland' 'Bosnia and Herzegovina' 'Ukraine' 'Slovakia'\n",
      " 'Macedonia' 'China' 'Egypt']\n"
     ]
    }
   ],
   "source": [
    "#What countries are represented in the data set? i.e., list all the unique country names.\n",
    "print(\"Countries that are represented in the dataset: \\n\" + str(data.country.unique()))\n"
   ]
  },
  {
   "cell_type": "code",
   "execution_count": 56,
   "metadata": {},
   "outputs": [
    {
     "name": "stdout",
     "output_type": "stream",
     "text": [
      "The top-10 countries with the most wine reviews are: ['US', 'France', 'Italy', 'Spain', 'Portugal', 'Chile', 'Argentina', 'Austria', 'Australia', 'Germany']\n"
     ]
    }
   ],
   "source": [
    "# What are the top-10 countries with the most wine reviews?\n",
    "print(\"The top-10 countries with the most wine reviews are: \" + str(values[0:10]))\n",
    "\n"
   ]
  },
  {
   "cell_type": "code",
   "execution_count": 58,
   "metadata": {},
   "outputs": [
    {
     "name": "stdout",
     "output_type": "stream",
     "text": [
      "The median price is : 25.0\n"
     ]
    }
   ],
   "source": [
    "# What is the median of the price?\n",
    "median = data[\"price\"].median()\n",
    "\n",
    "print(\"The median price is : \" + str(median))\n"
   ]
  },
  {
   "cell_type": "code",
   "execution_count": 78,
   "metadata": {},
   "outputs": [
    {
     "name": "stdout",
     "output_type": "stream",
     "text": [
      "The price_norm column is: \n"
     ]
    },
    {
     "data": {
      "text/plain": [
       "0          NaN\n",
       "1        -10.0\n",
       "2        -11.0\n",
       "3        -12.0\n",
       "4         40.0\n",
       "          ... \n",
       "129966     3.0\n",
       "129967    50.0\n",
       "129968     5.0\n",
       "129969     7.0\n",
       "129970    -4.0\n",
       "Name: price_norm, Length: 129971, dtype: float64"
      ]
     },
     "execution_count": 78,
     "metadata": {},
     "output_type": "execute_result"
    }
   ],
   "source": [
    "# Create a new column 'price_norm' by subtracting the median price\n",
    "\n",
    "# Subtract \"price_norm\" by median price\n",
    "p = lambda x: x[\"price\"] - median\n",
    "\n",
    "# Assign values to \"price_norm\"\n",
    "data[\"price_norm\"] = data.apply(p, axis = 1)\n",
    "\n",
    "# Print data\n",
    "print(\"The price_norm column is: \")\n",
    "data[\"price_norm\"]"
   ]
  },
  {
   "cell_type": "code",
   "execution_count": 82,
   "metadata": {},
   "outputs": [
    {
     "name": "stdout",
     "output_type": "stream",
     "text": [
      "The bargain column is: \n"
     ]
    },
    {
     "data": {
      "text/plain": [
       "0              NaN\n",
       "1         5.800000\n",
       "2         6.214286\n",
       "3         6.692308\n",
       "4         1.338462\n",
       "            ...   \n",
       "129966    3.214286\n",
       "129967    1.200000\n",
       "129968    3.000000\n",
       "129969    2.812500\n",
       "129970    4.285714\n",
       "Name: bargain, Length: 129971, dtype: float64"
      ]
     },
     "execution_count": 82,
     "metadata": {},
     "output_type": "execute_result"
    }
   ],
   "source": [
    "# Create a new column 'bargain' which contains the points-to-price ratio.\n",
    "\n",
    "b = lambda x: x[\"points\"]/x[\"price\"]\n",
    "\n",
    "# Assign values to \"bargain\"\n",
    "data[\"bargain\"] = data.apply(b, axis = 1)\n",
    "\n",
    "# Display\n",
    "print(\"The bargain column is: \")\n",
    "data[\"bargain\"]\n"
   ]
  },
  {
   "cell_type": "code",
   "execution_count": 83,
   "metadata": {},
   "outputs": [
    {
     "name": "stdout",
     "output_type": "stream",
     "text": [
      "The wine with the highest points-to-price ratio is:\n",
      "country                US\n",
      "designation           NaN\n",
      "province       California\n",
      "region_1       California\n",
      "bargain              21.5\n",
      "Name: 64590, dtype: object\n"
     ]
    }
   ],
   "source": [
    "# Which wine(s) is/are the \"best bargain\", e.g., which wine(s) has/have the highest points-to-price ratio in the dataset?\n",
    "\n",
    "highest = data.loc[data.bargain.idxmax()][['country','designation','province','region_1','bargain']]\n",
    "print(\"The wine with the highest points-to-price ratio is:\\n\" + str(highest))\n"
   ]
  }
 ],
 "metadata": {
  "kernelspec": {
   "display_name": "Python 3",
   "language": "python",
   "name": "python3"
  },
  "language_info": {
   "codemirror_mode": {
    "name": "ipython",
    "version": 3
   },
   "file_extension": ".py",
   "mimetype": "text/x-python",
   "name": "python",
   "nbconvert_exporter": "python",
   "pygments_lexer": "ipython3",
   "version": "3.7.6"
  }
 },
 "nbformat": 4,
 "nbformat_minor": 4
}
