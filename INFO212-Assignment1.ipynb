{
 "cells": [
  {
   "cell_type": "markdown",
   "metadata": {},
   "source": [
    "<h1 style=\"text-align:center\"> Drexel University </h1>\n",
    "<h2 style = \"text-align:center\"> College of Computing and Informatics</h2>\n",
    "<h2 style = \"text-align:center\">INFO 212: Data Science Programming I</h2>\n",
    "<h3 style = \"text-align:center\">Assignment 1</h3>\n",
    "<div style=\"text-align:center; border-style:solid; padding: 10px\">\n",
    "<div style=\"font-weight:bold\">Due Date: Sunday, April 12, 2020</div>\n",
    "This assignment counts for 10% of the final grade\n",
    "</div>\n",
    "\n",
    "<h3 style=\"color:red; font-weight:bold; text-decoration: underline\">DON'T FORGET TO PUT YOUR NAME BELOW</h3>\n",
    "\n",
    "### NAME: Man Tik Li\n",
    "\n",
    "\n",
    "### A. Assignment Overview\n",
    "This assignment provides the opportunity for you to practice with Python basics. \n",
    "\n",
    "### B. What to Hand In\n",
    "\t\n",
    "Sumbit a completed this Jupyter notebook. \n",
    "\n",
    "### C. How to Hand In\n",
    "\n",
    "Submit your Jupyter notebook file through the course website in the Blackboard Learn system.\n",
    "\n",
    "### D. When to Hand In\n",
    "\n",
    "1. Submit your assignment no later than 11:59pm in the due date.\n",
    "2. There will be a 10% (absolute value) deduction for each day of lateness, to a maximum of 3 days; assignments will not be accepted beyond that point. Missing work will earn a zero grade.\n",
    "\n",
    "### E. Written Presentation Requirements (if applicable)\n",
    "Images must be clear and legible. Assignments will be judged on the basis of visual appearance, grammatical correctness, and quality of writing, as well as their contents. Please make sure that the text of your assignments is well-structured, using paragraphs, full sentences, and other features of well-written presentation.\n",
    "\n",
    "### F. Marking Schemes:\n",
    "\n",
    "Marking assignments will be based on several aspects: presentation, correctness and coding styles. \n",
    "\n",
    "For programming questions, 10% of the mark will be judged on the coding style. \n",
    "\n",
    "The following is a set of guidelines for the coding style in this course:\n",
    "1. Write a good comment for each variable, each method, each control branch, and each loop.\n",
    "2. Use appropriate indentations to indicate control flows and blocks of code. \n",
    "3. Your method comments must mention the purpose of each parameter, and must be grammatically correct. \n",
    "4. Each line must be less than 80 characters long including tabs and spaces. \n",
    "5. Put a blank space before and after every operator. \n",
    "6. When breaking up a long line, break it before an operator, not after. \n",
    "\n",
    "### G. Answer the following questions"
   ]
  },
  {
   "cell_type": "markdown",
   "metadata": {},
   "source": [
    "#### Question 1:\n",
    "Write a Python function `convert_to_unique_chars(s)` that converts a string to a list of unique characters. The order of the unique characters should be the original order of their first appearances in the given string. \n",
    "\n",
    "For example, for the string `s=\"hello world\"`, the function should create the list `['h', 'e', 'l', 'o', ' ', 'w', 'r', 'd']`\n",
    "\n",
    "Test your function on some strings. Think about all kinds of strings, including empty string, all blanks, etc."
   ]
  },
  {
   "cell_type": "code",
   "execution_count": 17,
   "metadata": {},
   "outputs": [
    {
     "name": "stdout",
     "output_type": "stream",
     "text": [
      "['T', 'e', 's', 't', 'i', 'n', 'g']\n",
      "['H', 'a', 'p', 'p', 'y', ' ', 'b', 'i', 'r', 't', 'h', 'd', 'a', 'y', '!', '!']\n",
      "['-', '-', '-', '-', '-', '-', '-', '-', '-', '-', '-', '-', '-']\n",
      "['H', 'e', 'l', 'l', 'o', ',', ' ', 'w', 'o', 'r', 'l', 'd', '!']\n",
      "['p', 'o', 'p', 'u', 'l', 'a', 't', 'i', 'o', 'n']\n",
      "['C', 'o', 'm', 'm', 'e', 'n', 't', 's']\n"
     ]
    }
   ],
   "source": [
    "# Function that converts a string to a list of characters\n",
    "\"\"\"\n",
    "Input:\n",
    "    s: a string\n",
    "Output:\n",
    "    chars: a list of unique characters in the input string\n",
    "\"\"\"\n",
    "def convert_to_unique_chars(s):\n",
    "    data = list(s)\n",
    "    \n",
    "    return data\n",
    "\n",
    "# String variables with random strings\n",
    "s = \"Testing\"\n",
    "a = \"Happy birthday!!\"\n",
    "m = \"-------------\"\n",
    "p = \"Hello, world!\"\n",
    "l = \"population\"\n",
    "e = \"Comments\"\n",
    "\n",
    "# Object\n",
    "fun = convert_to_unique_chars(s)\n",
    "# Print value\n",
    "print(fun)\n",
    "fun = convert_to_unique_chars(a)\n",
    "# Print value\n",
    "print(fun)\n",
    "fun = convert_to_unique_chars(m)\n",
    "# Print value\n",
    "print(fun)\n",
    "fun = convert_to_unique_chars(p)\n",
    "# Print value\n",
    "print(fun)\n",
    "fun = convert_to_unique_chars(l)\n",
    "# Print value\n",
    "print(fun)\n",
    "fun = convert_to_unique_chars(e)\n",
    "# Print value\n",
    "print(fun)\n"
   ]
  },
  {
   "cell_type": "markdown",
   "metadata": {},
   "source": [
    "#### Question 2:\n",
    "Write a Python function `test_ten_percent(a, b)` that prints `True` if the variable $a$ is within $10\\%$ of the variable $b$ and `False` otherwise. Test your program on some pairs of numbers. Explain your implementation of \"ten percent of variable $b$\" in comments. "
   ]
  },
  {
   "cell_type": "code",
   "execution_count": 22,
   "metadata": {},
   "outputs": [
    {
     "name": "stdout",
     "output_type": "stream",
     "text": [
      "True\n",
      "False\n",
      "True\n",
      "False\n",
      "False\n",
      "True\n",
      "True\n",
      "False\n"
     ]
    }
   ],
   "source": [
    "# Write your code below\n",
    "\"\"\"\n",
    "Input:\n",
    "    a: a number\n",
    "    b: a number\n",
    "Output:\n",
    "    True: if a is within 10% of b\n",
    "    False: otherwise\n",
    "\"\"\"\n",
    "def test_ten_percent(a, b):\n",
    "    # This statement return true if a is less than equal 10% of b, otherwise return false\n",
    "    if (a <= (b * 0.1) and a > 0):\n",
    "        return True\n",
    "    else:\n",
    "        return False\n",
    "    \n",
    "print(test_ten_percent(0.9999, 10))\n",
    "print(test_ten_percent(1, 2))\n",
    "print(test_ten_percent(10, 100))\n",
    "print(test_ten_percent(0, 200))\n",
    "print(test_ten_percent(-1, 10))\n",
    "print(test_ten_percent(1, 10))\n",
    "print(test_ten_percent(2, 100))\n",
    "print(test_ten_percent(0, 10))\n"
   ]
  },
  {
   "cell_type": "markdown",
   "metadata": {},
   "source": [
    "#### Qestion 3:\n",
    "Write a Python function `build_map(list1, list2)` which takes two lists as input and creates a map which uses the first list as the keys and second list as the values. Think about all kinds of input.\n",
    "\n",
    "For example, given two lists:\n",
    "\n",
    "`ls1 = [2,5,8]`\n",
    "\n",
    "`ls2 = ['we', 'me', 'he']`\n",
    "\n",
    "The function returns a map:\n",
    "\n",
    "`m = {2:'we', 5:'me', 8:'he']`"
   ]
  },
  {
   "cell_type": "code",
   "execution_count": 27,
   "metadata": {},
   "outputs": [
    {
     "name": "stdout",
     "output_type": "stream",
     "text": [
      "{1: 'a', 2: 'b', 3: 'c'}\n",
      "None\n",
      "{1: 'a', 2: 'b'}\n"
     ]
    }
   ],
   "source": [
    "\"\"\"\n",
    "Build a map from the two given lists.\n",
    "\n",
    "Input:\n",
    "    l1: a list of keys\n",
    "    l2: a list of values\n",
    "Output:\n",
    "    m: a map from the keys to values. If there are fewer values than keys, \n",
    "    map keys to None\n",
    "\"\"\"\n",
    "def build_map(l1, l2):\n",
    "    \"\"\"\n",
    "        The zip function joined aurguments together\n",
    "        The dictonary function pairs keys to values \n",
    "    \"\"\"\n",
    "    m = dict(zip(l1, l2))\n",
    "    \n",
    "    # Compare the length of lists. Return none if list's values less than keys, else return dictonary\n",
    "    if (len(l2) < len(l1)):\n",
    "        return None\n",
    "    \n",
    "    else:\n",
    "        return m\n",
    "\n",
    "# Lists\n",
    "ls1 = [1,2,3]\n",
    "ls2 = ['a', 'b', 'c']\n",
    "# print message\n",
    "print(build_map(ls1, ls2))\n",
    "\n",
    "# Lists\n",
    "ls1 = [1,2,3]\n",
    "ls2 = ['a', 'b']\n",
    "# print message\n",
    "print(build_map(ls1, ls2))\n",
    "\n",
    "# Lists\n",
    "ls1 = [1,2]\n",
    "ls2 = ['a', 'b', 'c']\n",
    "# print message\n",
    "print(build_map(ls1, ls2))\n"
   ]
  },
  {
   "cell_type": "markdown",
   "metadata": {},
   "source": [
    "#### Question 4: \n",
    "Write a Python function `count_lines(fname)` which counts the number of lines in a text file. Download the given `train.csv` file and test the function on the file `train.csv`. A line in a text file is identified by ending with a newline symbol. Empty lines are lines too."
   ]
  },
  {
   "cell_type": "code",
   "execution_count": 29,
   "metadata": {},
   "outputs": [
    {
     "name": "stdout",
     "output_type": "stream",
     "text": [
      "892\n"
     ]
    }
   ],
   "source": [
    "\"\"\"\n",
    "Count the number of lines in a text file\n",
    "Input:\n",
    "    fname: the path/name to a text file. Your code should take care of the case\n",
    "    if the file doesn't exist.\n",
    "Output:\n",
    "    numOfLines: the number of lines in the input text file\n",
    "\"\"\"\n",
    "\n",
    "def count_lines(fname):\n",
    "    # Counter\n",
    "    count = 0\n",
    "    \n",
    "    # Open and read the file\n",
    "    lines = open(fname, \"r\")\n",
    "    \n",
    "    # Use for loop to count the total line of the file\n",
    "    for line in lines:\n",
    "        count += 1\n",
    "    \n",
    "    return count\n",
    "\n",
    "# The name of the file\n",
    "filename = \"train.csv\"\n",
    "\n",
    "# Pass return value to variable\n",
    "total = count_lines(filename)\n",
    "\n",
    "# Print total line\n",
    "print(total)\n"
   ]
  },
  {
   "cell_type": "markdown",
   "metadata": {},
   "source": [
    "#### Question 5:\n",
    "Given a list $c=[c_0, c_1, ..c_n]$ containing the coefficients of the polynomial $y=c_0+c_1x+c_2x^2+...+c_nx^n$. Write a Python function `poly_value(x, c)` to calculate the value of the polynomial for a given value $x$.\n",
    "\n",
    "For example, the list `c=[0.2, 0.4,0.3]` contains the coefficients of the following polynomial: $y = c_0 + c_1x + c_2x^2$. Given $x=5$, the functin `poly_value(x, c)` returns 9.7.\n",
    "\n",
    "Hint: The built-in function `enumerate` takes a sequence (e.g. a list) and generates a new sequence of the same length. Each element of the new sequence is a pair composed of the index (0, 1, 2,…) and the value from the original sequence.\n",
    "\n",
    "You can write a loop to use `enumerate(c)` to compuate `y`."
   ]
  },
  {
   "cell_type": "code",
   "execution_count": 28,
   "metadata": {},
   "outputs": [],
   "source": [
    "\"\"\"\n",
    "This function compute the value of the polynomial y=c[0]+c[1]*x+c[2]*x**2+...\n",
    "\n",
    "Input:\n",
    "    x: a given value\n",
    "    c: a list of coefficients of a polynomial\n",
    "Output:\n",
    "    val: the value of polynomial y=c[0]+c[1]*x+c[2]*x**2+...\n",
    "\"\"\"\n",
    "\n",
    "def poly_value(x, c):\n",
    "    # The total of the polynomial value\n",
    "    result = 0\n",
    "    \n",
    "    # The enumerate function read the list and setup counter to an iterable\n",
    "    # enumerate(iterable, start = 0) \n",
    "    # Power is the total of length of the list\n",
    "    # Coeff is an value in list\n",
    "    for power, coeff in enumerate(c):\n",
    "        result += (x**power) * coeff    \n",
    "\n",
    "    return result\n",
    "    \n",
    "x = 5\n",
    "c = [0.2, 0.4, 0.3]\n",
    "print(poly_value(x, c))"
   ]
  },
  {
   "cell_type": "markdown",
   "metadata": {},
   "source": [
    "#### Question 6: [BONUS]\n",
    "The given file `ages.txt` contains the ages of some passengers in a cruise ship. Write Python code to open the file and create a list of ages. Continue to write code to answer the following questions:\n",
    "1. What is the age of the youngest passenger?\n",
    "2. What is the age of the oldest passenger?\n",
    "3. What is the average age of all passengers?\n",
    "4. What is the median age such that there are equal numbers of passengers younger and older than the median age?\n",
    "5. Order the ages in ascending order. break the ages in ranges of 20. In which range were the largest number of passengers found?"
   ]
  },
  {
   "cell_type": "code",
   "execution_count": 4,
   "metadata": {},
   "outputs": [
    {
     "name": "stdout",
     "output_type": "stream",
     "text": [
      "[22.0, 38.0, 26.0, 35.0, 35.0, 54.0, 2.0, 27.0, 14.0, 4.0, 58.0, 20.0, 39.0, 14.0, 55.0, 2.0, 31.0, 35.0, 34.0, 15.0, 28.0, 8.0, 38.0, 19.0, 40.0, 66.0, 28.0, 42.0, 21.0, 18.0, 14.0, 40.0, 27.0, 3.0, 19.0, 18.0, 7.0, 21.0, 49.0, 29.0, 65.0, 21.0, 28.5, 5.0, 11.0, 22.0, 38.0, 45.0, 4.0, 29.0, 19.0, 17.0, 26.0, 32.0, 16.0, 21.0, 26.0, 32.0, 25.0, 0.83, 30.0, 22.0, 29.0, 28.0, 17.0, 33.0, 16.0, 23.0, 24.0, 29.0, 20.0, 46.0, 26.0, 59.0, 71.0, 23.0, 34.0, 34.0, 28.0, 21.0, 33.0, 37.0, 28.0, 21.0, 38.0, 47.0, 14.5, 22.0, 20.0, 17.0, 21.0, 70.5, 29.0, 24.0, 2.0, 21.0, 32.5, 32.5, 54.0, 12.0, 24.0, 45.0, 33.0, 20.0, 47.0, 29.0, 25.0, 23.0, 19.0, 37.0, 16.0, 24.0, 22.0, 24.0, 19.0, 18.0, 19.0, 27.0, 9.0, 36.5, 42.0, 51.0, 22.0, 55.5, 40.5, 51.0, 16.0, 30.0, 44.0, 40.0, 26.0, 17.0, 1.0, 9.0, 45.0, 28.0, 61.0, 4.0, 1.0, 21.0, 56.0, 18.0, 50.0, 30.0, 36.0, 9.0, 1.0, 4.0, 45.0, 40.0, 36.0, 32.0, 19.0, 19.0, 3.0, 44.0, 58.0, 42.0, 24.0, 28.0, 34.0, 45.5, 18.0, 2.0, 32.0, 26.0, 16.0, 40.0, 24.0, 35.0, 22.0, 30.0, 31.0, 27.0, 42.0, 32.0, 30.0, 16.0, 27.0, 51.0, 38.0, 22.0, 19.0, 20.5, 18.0, 35.0, 29.0, 59.0, 5.0, 24.0, 44.0, 8.0, 19.0, 33.0, 29.0, 22.0, 30.0, 44.0, 25.0, 24.0, 37.0, 54.0, 29.0, 62.0, 30.0, 41.0, 29.0, 30.0, 35.0, 50.0, 3.0, 52.0, 40.0, 36.0, 16.0, 25.0, 58.0, 35.0, 25.0, 41.0, 37.0, 63.0, 45.0, 7.0, 35.0, 65.0, 28.0, 16.0, 19.0, 33.0, 30.0, 22.0, 42.0, 22.0, 26.0, 19.0, 36.0, 24.0, 24.0, 23.5, 2.0, 50.0, 19.0, 0.92, 17.0, 30.0, 30.0, 24.0, 18.0, 26.0, 28.0, 43.0, 26.0, 24.0, 54.0, 31.0, 40.0, 22.0, 27.0, 30.0, 22.0, 36.0, 61.0, 36.0, 31.0, 16.0, 45.5, 38.0, 16.0, 29.0, 41.0, 45.0, 45.0, 2.0, 24.0, 28.0, 25.0, 36.0, 24.0, 40.0, 3.0, 42.0, 23.0, 15.0, 25.0, 28.0, 22.0, 38.0, 40.0, 29.0, 45.0, 35.0, 30.0, 60.0, 24.0, 25.0, 18.0, 19.0, 22.0, 3.0, 22.0, 27.0, 20.0, 19.0, 42.0, 1.0, 32.0, 35.0, 18.0, 1.0, 36.0, 17.0, 36.0, 21.0, 28.0, 23.0, 24.0, 22.0, 31.0, 46.0, 23.0, 28.0, 39.0, 26.0, 21.0, 28.0, 20.0, 34.0, 51.0, 3.0, 21.0, 33.0, 44.0, 34.0, 18.0, 30.0, 10.0, 21.0, 29.0, 28.0, 18.0, 28.0, 19.0, 32.0, 28.0, 42.0, 17.0, 50.0, 14.0, 21.0, 24.0, 64.0, 31.0, 45.0, 20.0, 25.0, 28.0, 4.0, 13.0, 34.0, 5.0, 52.0, 36.0, 30.0, 49.0, 29.0, 65.0, 50.0, 48.0, 34.0, 47.0, 48.0, 38.0, 56.0, 0.75, 38.0, 33.0, 23.0, 22.0, 34.0, 29.0, 22.0, 2.0, 9.0, 50.0, 63.0, 25.0, 35.0, 58.0, 30.0, 9.0, 21.0, 55.0, 71.0, 21.0, 54.0, 25.0, 24.0, 17.0, 21.0, 37.0, 16.0, 18.0, 33.0, 28.0, 26.0, 29.0, 36.0, 54.0, 24.0, 47.0, 34.0, 36.0, 32.0, 30.0, 22.0, 44.0, 40.5, 50.0, 39.0, 23.0, 2.0, 17.0, 30.0, 7.0, 45.0, 30.0, 22.0, 36.0, 9.0, 11.0, 32.0, 50.0, 64.0, 19.0, 33.0, 8.0, 17.0, 27.0, 22.0, 22.0, 62.0, 48.0, 39.0, 36.0, 40.0, 28.0, 24.0, 19.0, 29.0, 32.0, 62.0, 53.0, 36.0, 16.0, 19.0, 34.0, 39.0, 32.0, 25.0, 39.0, 54.0, 36.0, 18.0, 47.0, 60.0, 22.0, 35.0, 52.0, 47.0, 37.0, 36.0, 49.0, 49.0, 24.0, 44.0, 35.0, 36.0, 30.0, 27.0, 22.0, 40.0, 39.0, 35.0, 24.0, 34.0, 26.0, 4.0, 26.0, 27.0, 42.0, 20.0, 21.0, 21.0, 61.0, 57.0, 21.0, 26.0, 80.0, 51.0, 32.0, 9.0, 28.0, 32.0, 31.0, 41.0, 20.0, 24.0, 2.0, 0.75, 48.0, 19.0, 56.0, 23.0, 18.0, 21.0, 18.0, 24.0, 32.0, 23.0, 58.0, 50.0, 40.0, 47.0, 36.0, 20.0, 32.0, 25.0, 43.0, 40.0, 31.0, 70.0, 31.0, 18.0, 24.5, 18.0, 43.0, 36.0, 27.0, 20.0, 14.0, 60.0, 25.0, 14.0, 19.0, 18.0, 15.0, 31.0, 4.0, 25.0, 60.0, 52.0, 44.0, 49.0, 42.0, 18.0, 35.0, 18.0, 25.0, 26.0, 39.0, 45.0, 42.0, 22.0, 24.0, 48.0, 29.0, 52.0, 19.0, 38.0, 27.0, 33.0, 6.0, 17.0, 34.0, 50.0, 27.0, 20.0, 30.0, 25.0, 25.0, 29.0, 11.0, 23.0, 23.0, 28.5, 48.0, 35.0, 36.0, 21.0, 24.0, 31.0, 70.0, 16.0, 30.0, 19.0, 31.0, 4.0, 6.0, 33.0, 23.0, 48.0, 0.67, 28.0, 18.0, 34.0, 33.0, 41.0, 20.0, 36.0, 16.0, 51.0, 30.5, 32.0, 24.0, 48.0, 57.0, 54.0, 18.0, 5.0, 43.0, 13.0, 17.0, 29.0, 25.0, 25.0, 18.0, 8.0, 1.0, 46.0, 16.0, 25.0, 39.0, 49.0, 31.0, 30.0, 30.0, 34.0, 31.0, 11.0, 0.42, 27.0, 31.0, 39.0, 18.0, 39.0, 33.0, 26.0, 39.0, 35.0, 6.0, 30.5, 23.0, 31.0, 43.0, 10.0, 52.0, 27.0, 38.0, 27.0, 2.0, 1.0, 62.0, 15.0, 0.83, 23.0, 18.0, 39.0, 21.0, 32.0, 20.0, 16.0, 30.0, 34.5, 17.0, 42.0, 35.0, 28.0, 4.0, 74.0, 9.0, 16.0, 44.0, 18.0, 45.0, 51.0, 24.0, 41.0, 21.0, 48.0, 24.0, 42.0, 27.0, 31.0, 4.0, 26.0, 47.0, 33.0, 47.0, 28.0, 15.0, 20.0, 19.0, 56.0, 25.0, 33.0, 22.0, 28.0, 25.0, 39.0, 27.0, 19.0, 26.0, 32.0]\n",
      "1. 0.42\n",
      "2. 80.0\n",
      "3. 29.69911764705882\n",
      "4. 28.0\n",
      "5. 2.0\n"
     ]
    }
   ],
   "source": [
    "# Write your code and answers here\n",
    "\n",
    "import statistics\n",
    "\n",
    "# This function read target file and return in list\n",
    "def read(f):\n",
    "    # The list intend to store value from target file\n",
    "    data = []\n",
    "    \n",
    "    # Open target file\n",
    "    line = open(f, \"r\")\n",
    "    for l in line:\n",
    "        # Erase \\n\n",
    "        l = l.replace(\"\\n\", \"\")\n",
    "\n",
    "        # Append to list\n",
    "        data.append(l)\n",
    "\n",
    "    # Convert the data from map to a list\n",
    "    data = list(map(float, data))\n",
    "        \n",
    "    return data\n",
    "        \n",
    "        \n",
    "name = \"age.txt\"\n",
    "ageList = read(name)\n",
    "print(ageList)\n",
    "\n",
    "# First answer\n",
    "first = min(ageList)\n",
    "print(\"1.\", first)\n",
    "\n",
    "# Second answer\n",
    "sec = max(ageList)\n",
    "print(\"2.\", sec)\n",
    "\n",
    "# Third answer\n",
    "total = sum(ageList)\n",
    "length = len(ageList)\n",
    "third = total / length\n",
    "print(\"3.\", third)\n",
    "\n",
    "# Fourth answer\n",
    "med = statistics.median(ageList)\n",
    "print(\"4.\", med)\n",
    "\n",
    "# Fifth answer\n",
    "# Sort in ascending order\n",
    "ageList.sort()\n",
    "# Break list in ranges of 20\n",
    "ageList = ageList[0:20]\n",
    "print(\"5.\", ageList[-1])"
   ]
  },
  {
   "cell_type": "code",
   "execution_count": null,
   "metadata": {},
   "outputs": [],
   "source": []
  }
 ],
 "metadata": {
  "kernelspec": {
   "display_name": "Python 3",
   "language": "python",
   "name": "python3"
  },
  "language_info": {
   "codemirror_mode": {
    "name": "ipython",
    "version": 3
   },
   "file_extension": ".py",
   "mimetype": "text/x-python",
   "name": "python",
   "nbconvert_exporter": "python",
   "pygments_lexer": "ipython3",
   "version": "3.7.6"
  }
 },
 "nbformat": 4,
 "nbformat_minor": 4
}
